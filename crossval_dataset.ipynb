{
 "cells": [
  {
   "cell_type": "code",
   "execution_count": 1,
   "id": "3cecb38e",
   "metadata": {},
   "outputs": [],
   "source": [
    "import os\n",
    "import shutil\n",
    "import pandas as pd"
   ]
  },
  {
   "cell_type": "code",
   "execution_count": 2,
   "id": "875d1969",
   "metadata": {},
   "outputs": [],
   "source": [
    "##Path##\n",
    "split_path='/home/NAS_mount/yslee/dataset/augmented_split-flip2'\n",
    "train_path=os.path.join(split_path,'train')\n",
    "val_path=os.path.join(split_path,'val')\n",
    "test_path=os.path.join(split_path,'test')"
   ]
  },
  {
   "cell_type": "code",
   "execution_count": 3,
   "id": "21483423",
   "metadata": {
    "scrolled": true
   },
   "outputs": [],
   "source": [
    "test=[]\n",
    "for file in os.listdir(test_path):\n",
    "    test.append(file.split('_')[0])"
   ]
  },
  {
   "cell_type": "code",
   "execution_count": 4,
   "id": "b931c3a2",
   "metadata": {
    "scrolled": true
   },
   "outputs": [],
   "source": [
    "pre_path='/home/NAS_mount/yslee/dataset/renamed/preprocessed/'\n",
    "dataset=[]\n",
    "for file in os.listdir(pre_path):\n",
    "    patID=file.split('_')[0]\n",
    "    if not(patID in dataset):\n",
    "        dataset.append(patID)"
   ]
  },
  {
   "cell_type": "code",
   "execution_count": 5,
   "id": "3421b498",
   "metadata": {},
   "outputs": [],
   "source": [
    "label_file=pd.read_csv('/home/NAS_mount/yslee/dataset/premolar_labels_0810.csv')\n",
    "label_file=label_file.set_index('PatientID_new')"
   ]
  },
  {
   "cell_type": "code",
   "execution_count": 6,
   "id": "d3acb484",
   "metadata": {},
   "outputs": [
    {
     "data": {
      "text/html": [
       "<div>\n",
       "<style scoped>\n",
       "    .dataframe tbody tr th:only-of-type {\n",
       "        vertical-align: middle;\n",
       "    }\n",
       "\n",
       "    .dataframe tbody tr th {\n",
       "        vertical-align: top;\n",
       "    }\n",
       "\n",
       "    .dataframe thead th {\n",
       "        text-align: right;\n",
       "    }\n",
       "</style>\n",
       "<table border=\"1\" class=\"dataframe\">\n",
       "  <thead>\n",
       "    <tr style=\"text-align: right;\">\n",
       "      <th></th>\n",
       "      <th>PatientID</th>\n",
       "      <th>Tooth</th>\n",
       "      <th>Result</th>\n",
       "      <th>Status</th>\n",
       "      <th>tooth_class</th>\n",
       "    </tr>\n",
       "    <tr>\n",
       "      <th>PatientID_new</th>\n",
       "      <th></th>\n",
       "      <th></th>\n",
       "      <th></th>\n",
       "      <th></th>\n",
       "      <th></th>\n",
       "    </tr>\n",
       "  </thead>\n",
       "  <tbody>\n",
       "    <tr>\n",
       "      <th>P-1</th>\n",
       "      <td>PM-1</td>\n",
       "      <td>45</td>\n",
       "      <td>1</td>\n",
       "      <td>1</td>\n",
       "      <td>2</td>\n",
       "    </tr>\n",
       "    <tr>\n",
       "      <th>P-2</th>\n",
       "      <td>PM-2</td>\n",
       "      <td>44</td>\n",
       "      <td>1</td>\n",
       "      <td>1</td>\n",
       "      <td>1</td>\n",
       "    </tr>\n",
       "    <tr>\n",
       "      <th>P-3</th>\n",
       "      <td>PM-3</td>\n",
       "      <td>35</td>\n",
       "      <td>1</td>\n",
       "      <td>1</td>\n",
       "      <td>2</td>\n",
       "    </tr>\n",
       "    <tr>\n",
       "      <th>P-4</th>\n",
       "      <td>PM-4</td>\n",
       "      <td>45</td>\n",
       "      <td>1</td>\n",
       "      <td>1</td>\n",
       "      <td>2</td>\n",
       "    </tr>\n",
       "    <tr>\n",
       "      <th>P-5</th>\n",
       "      <td>PM-6</td>\n",
       "      <td>34</td>\n",
       "      <td>1</td>\n",
       "      <td>1</td>\n",
       "      <td>1</td>\n",
       "    </tr>\n",
       "    <tr>\n",
       "      <th>...</th>\n",
       "      <td>...</td>\n",
       "      <td>...</td>\n",
       "      <td>...</td>\n",
       "      <td>...</td>\n",
       "      <td>...</td>\n",
       "    </tr>\n",
       "    <tr>\n",
       "      <th>P-678</th>\n",
       "      <td>EH-158</td>\n",
       "      <td>24</td>\n",
       "      <td>1</td>\n",
       "      <td>1</td>\n",
       "      <td>3</td>\n",
       "    </tr>\n",
       "    <tr>\n",
       "      <th>P-679</th>\n",
       "      <td>EH-159</td>\n",
       "      <td>35</td>\n",
       "      <td>1</td>\n",
       "      <td>1</td>\n",
       "      <td>2</td>\n",
       "    </tr>\n",
       "    <tr>\n",
       "      <th>P-680</th>\n",
       "      <td>EH-160</td>\n",
       "      <td>35</td>\n",
       "      <td>1</td>\n",
       "      <td>1</td>\n",
       "      <td>2</td>\n",
       "    </tr>\n",
       "    <tr>\n",
       "      <th>P-681</th>\n",
       "      <td>EH-161</td>\n",
       "      <td>35</td>\n",
       "      <td>0</td>\n",
       "      <td>1</td>\n",
       "      <td>2</td>\n",
       "    </tr>\n",
       "    <tr>\n",
       "      <th>P-682</th>\n",
       "      <td>EH-162</td>\n",
       "      <td>25</td>\n",
       "      <td>1</td>\n",
       "      <td>1</td>\n",
       "      <td>0</td>\n",
       "    </tr>\n",
       "  </tbody>\n",
       "</table>\n",
       "<p>682 rows × 5 columns</p>\n",
       "</div>"
      ],
      "text/plain": [
       "              PatientID  Tooth  Result  Status  tooth_class\n",
       "PatientID_new                                              \n",
       "P-1                PM-1     45       1       1            2\n",
       "P-2                PM-2     44       1       1            1\n",
       "P-3                PM-3     35       1       1            2\n",
       "P-4                PM-4     45       1       1            2\n",
       "P-5                PM-6     34       1       1            1\n",
       "...                 ...    ...     ...     ...          ...\n",
       "P-678            EH-158     24       1       1            3\n",
       "P-679            EH-159     35       1       1            2\n",
       "P-680            EH-160     35       1       1            2\n",
       "P-681            EH-161     35       0       1            2\n",
       "P-682            EH-162     25       1       1            0\n",
       "\n",
       "[682 rows x 5 columns]"
      ]
     },
     "execution_count": 6,
     "metadata": {},
     "output_type": "execute_result"
    }
   ],
   "source": [
    "label_file"
   ]
  },
  {
   "cell_type": "code",
   "execution_count": 7,
   "id": "fd81fa2a",
   "metadata": {},
   "outputs": [],
   "source": [
    "train_val_test=[]\n",
    "for patID in dataset:\n",
    "    if not(label_file['Tooth'][patID]==14 or label_file['Tooth'][patID]==24):\n",
    "        train_val_test.append(patID)\n",
    "\n",
    "train_val=[patID for patID in train_val_test if patID not in test]"
   ]
  },
  {
   "cell_type": "code",
   "execution_count": 8,
   "id": "4be6b8c5",
   "metadata": {},
   "outputs": [
    {
     "name": "stdout",
     "output_type": "stream",
     "text": [
      "The number of dataset\n",
      "- Train, Val:  500\n",
      "- Test:  100\n"
     ]
    }
   ],
   "source": [
    "print('The number of dataset')\n",
    "print('- Train, Val: ',len(train_val))\n",
    "print('- Test: ',len(test))"
   ]
  },
  {
   "cell_type": "code",
   "execution_count": 9,
   "id": "efbf2a03",
   "metadata": {},
   "outputs": [],
   "source": [
    "import random\n",
    "random.shuffle(train_val)\n",
    "\n",
    "fold1=train_val[0:100]\n",
    "fold2=train_val[100:200]\n",
    "fold3=train_val[200:300]\n",
    "fold4=train_val[300:400]\n",
    "fold5=train_val[400:500]"
   ]
  },
  {
   "cell_type": "code",
   "execution_count": 10,
   "id": "136e9597",
   "metadata": {
    "scrolled": true
   },
   "outputs": [
    {
     "data": {
      "image/png": "[encoded data removed]",
      "text/plain": [
       "<Figure size 432x288 with 1 Axes>"
      ]
     },
     "metadata": {
      "needs_background": "light"
     },
     "output_type": "display_data"
    },
    {
     "data": {
      "image/png": "[encoded data removed]",
      "text/plain": [
       "<Figure size 432x288 with 1 Axes>"
      ]
     },
     "metadata": {
      "needs_background": "light"
     },
     "output_type": "display_data"
    },
    {
     "data": {
      "image/png": "[encoded data removed]",
      "text/plain": [
       "<Figure size 432x288 with 1 Axes>"
      ]
     },
     "metadata": {
      "needs_background": "light"
     },
     "output_type": "display_data"
    },
    {
     "data": {
      "image/png": "[encoded data removed]",
      "text/plain": [
       "<Figure size 432x288 with 1 Axes>"
      ]
     },
     "metadata": {
      "needs_background": "light"
     },
     "output_type": "display_data"
    },
    {
     "data": {
      "image/png": "[encoded data removed]",
      "text/plain": [
       "<Figure size 432x288 with 1 Axes>"
      ]
     },
     "metadata": {
      "needs_background": "light"
     },
     "output_type": "display_data"
    }
   ],
   "source": [
    "import matplotlib.pyplot as plt\n",
    "for kfold in [fold1,fold2,fold3,fold4,fold5]:\n",
    "    suc=0\n",
    "    fail=0\n",
    "    for patID in kfold:\n",
    "        if label_file['Result'][patID]==1:\n",
    "            fail+=1\n",
    "        else:\n",
    "            suc+=1\n",
    "    plt.title('Result')\n",
    "    plt.bar(['Success','Fail'],[suc,fail])\n",
    "    plt.show()"
   ]
  },
  {
   "cell_type": "code",
   "execution_count": 15,
   "id": "61abe499",
   "metadata": {},
   "outputs": [],
   "source": [
    "fold1_path='/home/NAS_mount/yslee/dataset/crossval_dataset1-1103flip'\n",
    "fold2_path='/home/NAS_mount/yslee/dataset/crossval_dataset2-1103flip'\n",
    "fold3_path='/home/NAS_mount/yslee/dataset/crossval_dataset3-1103flip'\n",
    "fold4_path='/home/NAS_mount/yslee/dataset/crossval_dataset4-1103flip'\n",
    "fold5_path='/home/NAS_mount/yslee/dataset/crossval_dataset5-1103flip'\n",
    "\n",
    "for kfold_path in [fold1_path,fold2_path,fold3_path,fold4_path,fold5_path]:\n",
    "    if not os.path.isdir(kfold_path):\n",
    "        os.mkdir(kfold_path)\n",
    "    if not os.path.isdir(os.path.join(kfold_path,'train')):\n",
    "        os.mkdir(os.path.join(kfold_path,'train'))\n",
    "    if not os.path.isdir(os.path.join(kfold_path,'val')):\n",
    "        os.mkdir(os.path.join(kfold_path,'val'))\n",
    "    if not os.path.isdir(os.path.join(kfold_path,'test')):\n",
    "        os.mkdir(os.path.join(kfold_path,'test'))\n",
    "    \n",
    "fold1_train_path=os.path.join(fold1_path,'train')\n",
    "fold1_test_path=os.path.join(fold1_path,'test')\n",
    "fold1_val_path=os.path.join(fold1_path,'val')\n",
    "\n",
    "fold2_train_path=os.path.join(fold2_path,'train')\n",
    "fold2_test_path=os.path.join(fold2_path,'test')\n",
    "fold2_val_path=os.path.join(fold2_path,'val')\n",
    "\n",
    "fold3_train_path=os.path.join(fold3_path,'train')\n",
    "fold3_test_path=os.path.join(fold3_path,'test')\n",
    "fold3_val_path=os.path.join(fold3_path,'val')\n",
    "\n",
    "fold4_train_path=os.path.join(fold4_path,'train')\n",
    "fold4_test_path=os.path.join(fold4_path,'test')\n",
    "fold4_val_path=os.path.join(fold4_path,'val')\n",
    "\n",
    "fold5_train_path=os.path.join(fold5_path,'train')\n",
    "fold5_test_path=os.path.join(fold5_path,'test')\n",
    "fold5_val_path=os.path.join(fold5_path,'val')"
   ]
  },
  {
   "cell_type": "code",
   "execution_count": 12,
   "id": "5e4d7a2b",
   "metadata": {},
   "outputs": [],
   "source": [
    "for patID in test:\n",
    "    shutil.copyfile(os.path.join(pre_path,patID+'_1.bmp'),os.path.join(fold1_test_path,patID+'_1.bmp'))\n",
    "    shutil.copyfile(os.path.join(pre_path,patID+'_1.bmp'),os.path.join(fold2_test_path,patID+'_1.bmp'))\n",
    "    shutil.copyfile(os.path.join(pre_path,patID+'_1.bmp'),os.path.join(fold3_test_path,patID+'_1.bmp'))\n",
    "    shutil.copyfile(os.path.join(pre_path,patID+'_1.bmp'),os.path.join(fold4_test_path,patID+'_1.bmp'))\n",
    "    shutil.copyfile(os.path.join(pre_path,patID+'_1.bmp'),os.path.join(fold5_test_path,patID+'_1.bmp'))"
   ]
  },
  {
   "cell_type": "code",
   "execution_count": 14,
   "id": "9f124a59",
   "metadata": {},
   "outputs": [],
   "source": [
    "for patID in fold1:\n",
    "    shutil.copyfile(os.path.join(pre_path,patID+'_1.bmp'),os.path.join(fold1_val_path,patID+'_1.bmp'))\n",
    "for patID in fold2:\n",
    "    shutil.copyfile(os.path.join(pre_path,patID+'_1.bmp'),os.path.join(fold2_val_path,patID+'_1.bmp'))\n",
    "for patID in fold3:\n",
    "    shutil.copyfile(os.path.join(pre_path,patID+'_1.bmp'),os.path.join(fold3_val_path,patID+'_1.bmp'))\n",
    "for patID in fold4:\n",
    "    shutil.copyfile(os.path.join(pre_path,patID+'_1.bmp'),os.path.join(fold4_val_path,patID+'_1.bmp'))\n",
    "for patID in fold5:\n",
    "    shutil.copyfile(os.path.join(pre_path,patID+'_1.bmp'),os.path.join(fold5_val_path,patID+'_1.bmp'))"
   ]
  },
  {
   "cell_type": "code",
   "execution_count": 13,
   "id": "308d774d",
   "metadata": {},
   "outputs": [],
   "source": [
    "for kfold in [fold2,fold3,fold4,fold5]:\n",
    "    for patID in kfold:\n",
    "        shutil.copyfile(os.path.join(pre_path,patID+'_1.bmp'),os.path.join(fold1_train_path,patID+'_1.bmp'))\n",
    "        shutil.copyfile(os.path.join(pre_path,patID+'_2.bmp'),os.path.join(fold1_train_path,patID+'_2.bmp'))\n",
    "        shutil.copyfile(os.path.join(pre_path,patID+'_3.bmp'),os.path.join(fold1_train_path,patID+'_3.bmp'))\n",
    "        shutil.copyfile(os.path.join(pre_path,patID+'_4.bmp'),os.path.join(fold1_train_path,patID+'_4.bmp'))\n",
    "\n",
    "for kfold in [fold1,fold3,fold4,fold5]:\n",
    "    for patID in kfold:\n",
    "        shutil.copyfile(os.path.join(pre_path,patID+'_1.bmp'),os.path.join(fold2_train_path,patID+'_1.bmp'))\n",
    "        shutil.copyfile(os.path.join(pre_path,patID+'_2.bmp'),os.path.join(fold2_train_path,patID+'_2.bmp'))\n",
    "        shutil.copyfile(os.path.join(pre_path,patID+'_3.bmp'),os.path.join(fold2_train_path,patID+'_3.bmp'))\n",
    "        shutil.copyfile(os.path.join(pre_path,patID+'_4.bmp'),os.path.join(fold2_train_path,patID+'_4.bmp'))\n",
    "        \n",
    "for kfold in [fold1,fold2,fold4,fold5]:\n",
    "    for patID in kfold:\n",
    "        shutil.copyfile(os.path.join(pre_path,patID+'_1.bmp'),os.path.join(fold3_train_path,patID+'_1.bmp'))\n",
    "        shutil.copyfile(os.path.join(pre_path,patID+'_2.bmp'),os.path.join(fold3_train_path,patID+'_2.bmp'))\n",
    "        shutil.copyfile(os.path.join(pre_path,patID+'_3.bmp'),os.path.join(fold3_train_path,patID+'_3.bmp'))\n",
    "        shutil.copyfile(os.path.join(pre_path,patID+'_4.bmp'),os.path.join(fold3_train_path,patID+'_4.bmp'))\n",
    "\n",
    "for kfold in [fold1,fold2,fold3,fold5]:\n",
    "    for patID in kfold:\n",
    "        shutil.copyfile(os.path.join(pre_path,patID+'_1.bmp'),os.path.join(fold4_train_path,patID+'_1.bmp'))\n",
    "        shutil.copyfile(os.path.join(pre_path,patID+'_2.bmp'),os.path.join(fold4_train_path,patID+'_2.bmp'))\n",
    "        shutil.copyfile(os.path.join(pre_path,patID+'_3.bmp'),os.path.join(fold4_train_path,patID+'_3.bmp'))\n",
    "        shutil.copyfile(os.path.join(pre_path,patID+'_4.bmp'),os.path.join(fold4_train_path,patID+'_4.bmp'))\n",
    "\n",
    "for kfold in [fold1,fold2,fold3,fold4]:\n",
    "    for patID in kfold:\n",
    "        shutil.copyfile(os.path.join(pre_path,patID+'_1.bmp'),os.path.join(fold5_train_path,patID+'_1.bmp'))\n",
    "        shutil.copyfile(os.path.join(pre_path,patID+'_2.bmp'),os.path.join(fold5_train_path,patID+'_2.bmp'))\n",
    "        shutil.copyfile(os.path.join(pre_path,patID+'_3.bmp'),os.path.join(fold5_train_path,patID+'_3.bmp'))\n",
    "        shutil.copyfile(os.path.join(pre_path,patID+'_4.bmp'),os.path.join(fold5_train_path,patID+'_4.bmp'))"
   ]
  },
  {
   "cell_type": "code",
   "execution_count": null,
   "id": "fd5ac451",
   "metadata": {},
   "outputs": [],
   "source": []
  }
 ],
 "metadata": {
  "kernelspec": {
   "display_name": "Python 3",
   "language": "python",
   "name": "python3"
  },
  "language_info": {
   "codemirror_mode": {
    "name": "ipython",
    "version": 3
   },
   "file_extension": ".py",
   "mimetype": "text/x-python",
   "name": "python",
   "nbconvert_exporter": "python",
   "pygments_lexer": "ipython3",
   "version": "3.7.10"
  }
 },
 "nbformat": 4,
 "nbformat_minor": 5
}
